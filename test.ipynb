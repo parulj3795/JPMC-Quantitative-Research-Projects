{
 "cells": [
  {
   "cell_type": "code",
   "execution_count": 34,
   "metadata": {},
   "outputs": [
    {
     "data": {
      "text/plain": [
       "36"
      ]
     },
     "execution_count": 34,
     "metadata": {},
     "output_type": "execute_result"
    }
   ],
   "source": [
    "def getTotalEfficiency(skill):\n",
    "    # Write your code here\n",
    "    sum_of_skills = sum(skill)\n",
    "    number_of_teams = int(len(skill)/2)\n",
    "    skills_per_team = int(sum_of_skills/ number_of_teams)\n",
    "    \n",
    "    combinations = []\n",
    "    for i in range(len(skill)):\n",
    "        for j in range(i+1, len(skill)):\n",
    "                combinations.append([skill[i],skill[j]])\n",
    "                    \n",
    "    efficiency = []      \n",
    "    for pair in combinations:\n",
    "        if pair[0]+pair[1] == skills_per_team:\n",
    "            efficiency.append(pair[0]*pair[1])\n",
    "    \n",
    "    if len(efficiency) == 0:\n",
    "        return -1\n",
    "    else:\n",
    "        \n",
    "        return sum(efficiency)\n",
    "\n",
    "getTotalEfficiency([6,2,1,1,4,3,4])"
   ]
  },
  {
   "cell_type": "code",
   "execution_count": 37,
   "metadata": {},
   "outputs": [
    {
     "data": {
      "text/plain": [
       "36"
      ]
     },
     "execution_count": 37,
     "metadata": {},
     "output_type": "execute_result"
    }
   ],
   "source": [
    "def sum_of_efficiencies(skills):\n",
    "       # Sort the list to make pairing easier\n",
    "   skills.sort()\n",
    "   sum_efficiencies = 0\n",
    "   left = 0\n",
    "   right = len(skills) - 1\n",
    "   target_sum = None\n",
    "   pairs = []\n",
    "   while left < right:\n",
    "       current_sum = skills[left] + skills[right]\n",
    "       if target_sum is None:\n",
    "           target_sum = current_sum\n",
    "       elif current_sum != target_sum:\n",
    "           return -1\n",
    "       else:\n",
    "           sum_efficiencies += skills[left] * skills[right]\n",
    "           pairs.append((skills[left], skills[right]))\n",
    "           left += 1\n",
    "           right -= 1\n",
    "   if len(skills) % 2 != 0:\n",
    "       return -1\n",
    "   return sum_efficiencies\n",
    "\n",
    "getTotalEfficiency([6,2,1,1,4,3,4])"
   ]
  },
  {
   "cell_type": "code",
   "execution_count": 55,
   "metadata": {},
   "outputs": [
    {
     "name": "stdout",
     "output_type": "stream",
     "text": [
      "[6, 5]\n",
      "0\n"
     ]
    }
   ],
   "source": [
    "import random\n",
    "\n",
    "def play_dice_game(n, r):\n",
    "    total_score = 0\n",
    "    while True:\n",
    "        round_scores = [random.randint(1, 6) for _ in range(n)]\n",
    "        print(round_scores)\n",
    "        if all(score <= r for score in round_scores):\n",
    "            total_score += sum(round_scores)\n",
    "        else:\n",
    "            break\n",
    "    return total_score\n",
    "\n",
    "# Example usage for n=2, r=3\n",
    "print(play_dice_game(2, 3))"
   ]
  },
  {
   "cell_type": "code",
   "execution_count": 58,
   "metadata": {},
   "outputs": [
    {
     "data": {
      "text/plain": [
       "'(2 4 6 8) (1 5 7) (3)'"
      ]
     },
     "execution_count": 58,
     "metadata": {},
     "output_type": "execute_result"
    }
   ],
   "source": [
    "def find_cycles(permutation):\n",
    "    # Convert the permutation list to a dictionary for easy access\n",
    "    perm_dict = {i+1: permutation[i] for i in range(len(permutation))}\n",
    "    \n",
    "    # Helper function to find a cycle starting from element i\n",
    "    def get_cycle(i):\n",
    "        cycle = [i]\n",
    "        while True:\n",
    "            next_element = perm_dict[cycle[-1]]\n",
    "            if next_element == cycle[0]:\n",
    "                break\n",
    "            cycle.append(next_element)\n",
    "        return cycle\n",
    "    \n",
    "    # Keep track of elements that have already been seen\n",
    "    seen = set()\n",
    "    cycles = []\n",
    "\n",
    "    # Iterate through all elements in the permutation\n",
    "    for i in range(1, len(permutation) + 1):\n",
    "        if i not in seen:\n",
    "            # Find the cycle starting from the current element\n",
    "            cycle = get_cycle(i)\n",
    "            # Rotate cycle to start with the smallest element\n",
    "            min_index = cycle.index(min(cycle))\n",
    "            cycle = cycle[min_index:] + cycle[:min_index]\n",
    "            # Add all elements of the cycle to the seen set\n",
    "            seen.update(cycle)\n",
    "            # Add the found cycle to the list of cycles\n",
    "            cycles.append(cycle)\n",
    "\n",
    "    # Sort cycles by decreasing order of their length and then by the smallest element in increasing order\n",
    "    cycles.sort(key=lambda x: (-len(x), x[0]))\n",
    "\n",
    "    # Format the cycles as a string\n",
    "    cycle_strings = ['(' + ' '.join(map(str, cycle)) + ')' for cycle in cycles]\n",
    "    return ' '.join(cycle_strings)\n",
    "\n",
    "# Given permutation example\n",
    "permutation = [5, 4, 3, 6, 7, 8, 1, 2]\n",
    "find_cycles(permutation)\n"
   ]
  },
  {
   "cell_type": "code",
   "execution_count": 27,
   "metadata": {},
   "outputs": [
    {
     "name": "stdout",
     "output_type": "stream",
     "text": [
      "1\n"
     ]
    }
   ],
   "source": [
    "def minDeletions(arr):\n",
    "    n = len(arr)\n",
    "    \n",
    "    # Base case where no deletions are needed if array length is 1 or less\n",
    "    if n <= 1:\n",
    "        return 0\n",
    "\n",
    "    # Calculate LIS ending at each index\n",
    "    lis = [1] * n\n",
    "    for i in range(1, n):\n",
    "        for j in range(i):\n",
    "            if arr[j] < arr[i]:\n",
    "                lis[i] = max(lis[i], lis[j] + 1)\n",
    "\n",
    "    # Calculate LDS starting at each index\n",
    "    lds = [1] * n\n",
    "    for i in range(n-2, -1, -1):\n",
    "        for j in range(n-1, i, -1):\n",
    "            if arr[j] < arr[i]:\n",
    "                lds[i] = max(lds[i], lds[j] + 1)\n",
    "\n",
    "    # Find maximum of (LIS + LDS - 1) at all indices\n",
    "    max_length = 0\n",
    "    for i in range(n):\n",
    "        max_length = max(max_length, lis[i] + lds[i] - 1)\n",
    "\n",
    "    # Minimum deletions is total elements minus the maximum adjusted length\n",
    "    return n - max_length\n",
    "\n",
    "# Example usage\n",
    "arr = [3, 4, 2, 5, 1]\n",
    "print(minDeletions(arr))  # Output should be 1\n"
   ]
  },
  {
   "cell_type": "code",
   "execution_count": 25,
   "metadata": {},
   "outputs": [],
   "source": [
    "def evenProb(p, n):\n",
    "    # Write your code here\n",
    "    p_even = (1-p)**n # t=0\n",
    "    for i in range(1,n+1):\n",
    "        if i%2 == 0:\n",
    "            p_even += p**i\n",
    "            print(i, p**i, p_even)\n",
    "            \n",
    "    return round(p_even,8)"
   ]
  },
  {
   "cell_type": "code",
   "execution_count": 26,
   "metadata": {},
   "outputs": [
    {
     "name": "stdout",
     "output_type": "stream",
     "text": [
      "2 0.16000000000000003 0.52\n"
     ]
    },
    {
     "data": {
      "text/plain": [
       "0.52"
      ]
     },
     "execution_count": 26,
     "metadata": {},
     "output_type": "execute_result"
    }
   ],
   "source": [
    "evenProb(0.4, 2)"
   ]
  },
  {
   "cell_type": "code",
   "execution_count": null,
   "metadata": {},
   "outputs": [],
   "source": []
  }
 ],
 "metadata": {
  "kernelspec": {
   "display_name": "Python 3",
   "language": "python",
   "name": "python3"
  },
  "language_info": {
   "codemirror_mode": {
    "name": "ipython",
    "version": 3
   },
   "file_extension": ".py",
   "mimetype": "text/x-python",
   "name": "python",
   "nbconvert_exporter": "python",
   "pygments_lexer": "ipython3",
   "version": "3.10.12"
  }
 },
 "nbformat": 4,
 "nbformat_minor": 2
}
