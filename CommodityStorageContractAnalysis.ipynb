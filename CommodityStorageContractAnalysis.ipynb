{
 "cells": [
  {
   "cell_type": "markdown",
   "metadata": {},
   "source": [
    "Using the natural gas data, this code calculates the contract value given multiple costs involved in storing natural gas like injection cost, withdrawal cost, storage cost, etc. The code can take multiple injection and withdrawal dates as input. The code uses upsampled historical data with 1-year price prediction."
   ]
  },
  {
   "cell_type": "code",
   "execution_count": 1,
   "metadata": {},
   "outputs": [],
   "source": [
    "# Importing necessary libraries for data handling and visualization\n",
    "import numpy as np\n",
    "import pandas as pd\n",
    "from datetime import date"
   ]
  },
  {
   "cell_type": "code",
   "execution_count": 2,
   "metadata": {},
   "outputs": [],
   "source": [
    "# Load the data\n",
    "data = pd.read_csv('UpsampledData.csv')  # Load the dataset with upsampled data"
   ]
  },
  {
   "cell_type": "code",
   "execution_count": 3,
   "metadata": {},
   "outputs": [],
   "source": [
    "# Define a function to calculate the net profit from storage contracts\n",
    "def calculate_contract_value(injection_dates, withdrawal_dates, volume):\n",
    "    \"\"\"\n",
    "    Calculate the net profit from commodity trading with storage costs.\n",
    "    \n",
    "    Parameters:\n",
    "    injection_dates : list of date\n",
    "        Dates when commodities are injected into storage.\n",
    "    withdrawal_dates : list of date\n",
    "        Dates when commodities are withdrawn from storage.\n",
    "    volume : int\n",
    "        Volume of commodities traded in MMBtu.\n",
    "    \n",
    "    Returns:\n",
    "    float\n",
    "        Net profit from the trading contract.\n",
    "    \"\"\"\n",
    "    \n",
    "    # Fixed cost parameters\n",
    "    storage_cost_per_month = 100_000  # Cost per month for storage\n",
    "    injection_withdrawal_cost = 10_000  # Cost for each injection or withdrawal\n",
    "    transport_cost = 50_000  # Transportation cost\n",
    "\n",
    "    # Initialize total calculations\n",
    "    total_storage_duration = 0  # Total storage duration in months\n",
    "    total_injection_withdrawal_cost = injection_withdrawal_cost * (len(injection_dates) + len(withdrawal_dates))\n",
    "    total_buy_cost = 0\n",
    "    total_sell_revenue = 0\n",
    "\n",
    "    # Process each injection and withdrawal date\n",
    "    for i in range(len(injection_dates)):\n",
    "        in_date = injection_dates[i]\n",
    "        out_date = withdrawal_dates[i]\n",
    "        total_storage_duration += (out_date.year - in_date.year) * 12 + (out_date.month - in_date.month)\n",
    "        \n",
    "        # Fetching buying and selling prices from the dataset\n",
    "        buy_price = data[data['Dates'] == str(in_date)]['Prices'].values[-1]\n",
    "        total_buy_cost += buy_price * volume\n",
    "        print(f\"Price on {in_date}: {buy_price}\")\n",
    "        \n",
    "        sell_price = data[data['Dates'] == str(out_date)]['Prices'].values[-1]\n",
    "        total_sell_revenue += sell_price * volume\n",
    "        print(f\"Price on {out_date}: {sell_price}\")\n",
    "        \n",
    "    # Calculate total costs and revenue\n",
    "    total_storage_cost = storage_cost_per_month * total_storage_duration\n",
    "    total_injection_withdrawal_cost *= (volume / 1_000_000)  # Adjust cost per million MMBtu\n",
    "    total_transport_cost = transport_cost * 2  # Transport to and from the location\n",
    "\n",
    "    # Calculate net profit\n",
    "    net_profit = total_sell_revenue - total_buy_cost - total_storage_cost - total_injection_withdrawal_cost - total_transport_cost\n",
    "\n",
    "    return np.round(net_profit, 2)"
   ]
  },
  {
   "cell_type": "code",
   "execution_count": 4,
   "metadata": {},
   "outputs": [
    {
     "name": "stdout",
     "output_type": "stream",
     "text": [
      "Price on 2022-01-01: 11.400740046452624\n",
      "Price on 2022-01-27: 11.468350319248154\n",
      "Price on 2022-02-01: 11.50906669738608\n",
      "Price on 2022-02-15: 11.683825030463495\n",
      "Price on 2022-02-21: 11.755261369958324\n",
      "Price on 2022-03-20: 11.69888219463267\n",
      "Price on 2022-04-01: 11.476909093432209\n",
      "Price on 2022-06-01: 10.695717987428402\n",
      "-1075201.68\n"
     ]
    }
   ],
   "source": [
    "print(calculate_contract_value(\n",
    "    injection_dates=[date(2022, 1, 1), date(2022, 2, 1), date(2022, 2, 21), date(2022, 4, 1)], \n",
    "    withdrawal_dates=[date(2022, 1, 27), date(2022, 2, 15), date(2022, 3, 20), date(2022, 6, 1)], \n",
    "    volume=1_000_000\n",
    "))"
   ]
  }
 ],
 "metadata": {
  "kernelspec": {
   "display_name": "Python 3",
   "language": "python",
   "name": "python3"
  },
  "language_info": {
   "codemirror_mode": {
    "name": "ipython",
    "version": 3
   },
   "file_extension": ".py",
   "mimetype": "text/x-python",
   "name": "python",
   "nbconvert_exporter": "python",
   "pygments_lexer": "ipython3",
   "version": "3.10.12"
  }
 },
 "nbformat": 4,
 "nbformat_minor": 2
}
