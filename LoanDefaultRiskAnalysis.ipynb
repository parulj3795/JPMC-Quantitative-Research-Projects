{
 "cells": [
  {
   "cell_type": "markdown",
   "metadata": {},
   "source": [
    "Predictive modeling and analysis to assess the risk of loan defaults using logistic regression and decision trees."
   ]
  },
  {
   "cell_type": "code",
   "execution_count": 1,
   "metadata": {
    "metadata": {}
   },
   "outputs": [],
   "source": [
    "# Import necessary libraries for data manipulation, visualization, and machine learning\n",
    "import pandas as pd\n",
    "import matplotlib.pyplot as plt\n",
    "from sklearn.model_selection import train_test_split\n",
    "from sklearn.linear_model import LogisticRegression\n",
    "from sklearn.tree import DecisionTreeClassifier\n",
    "from sklearn.metrics import roc_auc_score"
   ]
  },
  {
   "cell_type": "code",
   "execution_count": 2,
   "metadata": {
    "metadata": {}
   },
   "outputs": [
    {
     "data": {
      "text/html": [
       "<div>\n",
       "<style scoped>\n",
       "    .dataframe tbody tr th:only-of-type {\n",
       "        vertical-align: middle;\n",
       "    }\n",
       "\n",
       "    .dataframe tbody tr th {\n",
       "        vertical-align: top;\n",
       "    }\n",
       "\n",
       "    .dataframe thead th {\n",
       "        text-align: right;\n",
       "    }\n",
       "</style>\n",
       "<table border=\"1\" class=\"dataframe\">\n",
       "  <thead>\n",
       "    <tr style=\"text-align: right;\">\n",
       "      <th></th>\n",
       "      <th>customer_id</th>\n",
       "      <th>credit_lines_outstanding</th>\n",
       "      <th>loan_amt_outstanding</th>\n",
       "      <th>total_debt_outstanding</th>\n",
       "      <th>income</th>\n",
       "      <th>years_employed</th>\n",
       "      <th>fico_score</th>\n",
       "      <th>default</th>\n",
       "    </tr>\n",
       "  </thead>\n",
       "  <tbody>\n",
       "    <tr>\n",
       "      <th>0</th>\n",
       "      <td>8153374</td>\n",
       "      <td>0</td>\n",
       "      <td>5221.545193</td>\n",
       "      <td>3915.471226</td>\n",
       "      <td>78039.38546</td>\n",
       "      <td>5</td>\n",
       "      <td>605</td>\n",
       "      <td>0</td>\n",
       "    </tr>\n",
       "    <tr>\n",
       "      <th>1</th>\n",
       "      <td>7442532</td>\n",
       "      <td>5</td>\n",
       "      <td>1958.928726</td>\n",
       "      <td>8228.752520</td>\n",
       "      <td>26648.43525</td>\n",
       "      <td>2</td>\n",
       "      <td>572</td>\n",
       "      <td>1</td>\n",
       "    </tr>\n",
       "    <tr>\n",
       "      <th>2</th>\n",
       "      <td>2256073</td>\n",
       "      <td>0</td>\n",
       "      <td>3363.009259</td>\n",
       "      <td>2027.830850</td>\n",
       "      <td>65866.71246</td>\n",
       "      <td>4</td>\n",
       "      <td>602</td>\n",
       "      <td>0</td>\n",
       "    </tr>\n",
       "    <tr>\n",
       "      <th>3</th>\n",
       "      <td>4885975</td>\n",
       "      <td>0</td>\n",
       "      <td>4766.648001</td>\n",
       "      <td>2501.730397</td>\n",
       "      <td>74356.88347</td>\n",
       "      <td>5</td>\n",
       "      <td>612</td>\n",
       "      <td>0</td>\n",
       "    </tr>\n",
       "    <tr>\n",
       "      <th>4</th>\n",
       "      <td>4700614</td>\n",
       "      <td>1</td>\n",
       "      <td>1345.827718</td>\n",
       "      <td>1768.826187</td>\n",
       "      <td>23448.32631</td>\n",
       "      <td>6</td>\n",
       "      <td>631</td>\n",
       "      <td>0</td>\n",
       "    </tr>\n",
       "  </tbody>\n",
       "</table>\n",
       "</div>"
      ],
      "text/plain": [
       "   customer_id  credit_lines_outstanding  loan_amt_outstanding  \\\n",
       "0      8153374                         0           5221.545193   \n",
       "1      7442532                         5           1958.928726   \n",
       "2      2256073                         0           3363.009259   \n",
       "3      4885975                         0           4766.648001   \n",
       "4      4700614                         1           1345.827718   \n",
       "\n",
       "   total_debt_outstanding       income  years_employed  fico_score  default  \n",
       "0             3915.471226  78039.38546               5         605        0  \n",
       "1             8228.752520  26648.43525               2         572        1  \n",
       "2             2027.830850  65866.71246               4         602        0  \n",
       "3             2501.730397  74356.88347               5         612        0  \n",
       "4             1768.826187  23448.32631               6         631        0  "
      ]
     },
     "execution_count": 2,
     "metadata": {},
     "output_type": "execute_result"
    }
   ],
   "source": [
    "# Load the loan dataset\n",
    "data = pd.read_csv('Loan_Data.csv')  # Load data from a CSV file\n",
    "data.head()  # Display the first five rows of the dataset to understand its structure"
   ]
  },
  {
   "cell_type": "code",
   "execution_count": 3,
   "metadata": {
    "metadata": {}
   },
   "outputs": [
    {
     "name": "stdout",
     "output_type": "stream",
     "text": [
      "<class 'pandas.core.frame.DataFrame'>\n",
      "RangeIndex: 10000 entries, 0 to 9999\n",
      "Data columns (total 8 columns):\n",
      " #   Column                    Non-Null Count  Dtype  \n",
      "---  ------                    --------------  -----  \n",
      " 0   customer_id               10000 non-null  int64  \n",
      " 1   credit_lines_outstanding  10000 non-null  int64  \n",
      " 2   loan_amt_outstanding      10000 non-null  float64\n",
      " 3   total_debt_outstanding    10000 non-null  float64\n",
      " 4   income                    10000 non-null  float64\n",
      " 5   years_employed            10000 non-null  int64  \n",
      " 6   fico_score                10000 non-null  int64  \n",
      " 7   default                   10000 non-null  int64  \n",
      "dtypes: float64(3), int64(5)\n",
      "memory usage: 625.1 KB\n"
     ]
    }
   ],
   "source": [
    "# Display data types and non-null counts for each column to check for missing values and data types\n",
    "data.info()"
   ]
  },
  {
   "cell_type": "code",
   "execution_count": 4,
   "metadata": {
    "metadata": {}
   },
   "outputs": [
    {
     "data": {
      "image/png": "[encoded data removed]",
      "text/plain": [
       "<Figure size 640x480 with 1 Axes>"
      ]
     },
     "metadata": {},
     "output_type": "display_data"
    }
   ],
   "source": [
    "# Visualize the relationship between total debt and loan amount by default status\n",
    "plt.clf()  # Clear any previous plots\n",
    "plt.xlabel('total_debt_outstanding')\n",
    "plt.ylabel('loan_amt_outstanding')\n",
    "\n",
    "# Red points for defaulted loans, blue for non-defaulted loans\n",
    "plt.scatter(data[data['default'] == 1]['total_debt_outstanding'], data[data['default'] == 1]['loan_amt_outstanding'], c='r', s=1)\n",
    "plt.scatter(data[data['default'] == 0]['total_debt_outstanding'], data[data['default'] == 0]['loan_amt_outstanding'], c='b', s=1)\n",
    "plt.show()"
   ]
  },
  {
   "cell_type": "code",
   "execution_count": 5,
   "metadata": {},
   "outputs": [
    {
     "data": {
      "text/html": [
       "<div>\n",
       "<style scoped>\n",
       "    .dataframe tbody tr th:only-of-type {\n",
       "        vertical-align: middle;\n",
       "    }\n",
       "\n",
       "    .dataframe tbody tr th {\n",
       "        vertical-align: top;\n",
       "    }\n",
       "\n",
       "    .dataframe thead th {\n",
       "        text-align: right;\n",
       "    }\n",
       "</style>\n",
       "<table border=\"1\" class=\"dataframe\">\n",
       "  <thead>\n",
       "    <tr style=\"text-align: right;\">\n",
       "      <th></th>\n",
       "      <th>customer_id</th>\n",
       "      <th>credit_lines_outstanding</th>\n",
       "      <th>loan_amt_outstanding</th>\n",
       "      <th>total_debt_outstanding</th>\n",
       "      <th>income</th>\n",
       "      <th>years_employed</th>\n",
       "      <th>fico_score</th>\n",
       "      <th>default</th>\n",
       "      <th>debt_to_loan</th>\n",
       "      <th>debt_to_income</th>\n",
       "    </tr>\n",
       "  </thead>\n",
       "  <tbody>\n",
       "    <tr>\n",
       "      <th>0</th>\n",
       "      <td>8153374</td>\n",
       "      <td>0</td>\n",
       "      <td>5221.545193</td>\n",
       "      <td>3915.471226</td>\n",
       "      <td>78039.38546</td>\n",
       "      <td>5</td>\n",
       "      <td>605</td>\n",
       "      <td>0</td>\n",
       "      <td>0.749868</td>\n",
       "      <td>0.050173</td>\n",
       "    </tr>\n",
       "    <tr>\n",
       "      <th>1</th>\n",
       "      <td>7442532</td>\n",
       "      <td>5</td>\n",
       "      <td>1958.928726</td>\n",
       "      <td>8228.752520</td>\n",
       "      <td>26648.43525</td>\n",
       "      <td>2</td>\n",
       "      <td>572</td>\n",
       "      <td>1</td>\n",
       "      <td>4.200639</td>\n",
       "      <td>0.308789</td>\n",
       "    </tr>\n",
       "    <tr>\n",
       "      <th>2</th>\n",
       "      <td>2256073</td>\n",
       "      <td>0</td>\n",
       "      <td>3363.009259</td>\n",
       "      <td>2027.830850</td>\n",
       "      <td>65866.71246</td>\n",
       "      <td>4</td>\n",
       "      <td>602</td>\n",
       "      <td>0</td>\n",
       "      <td>0.602981</td>\n",
       "      <td>0.030787</td>\n",
       "    </tr>\n",
       "    <tr>\n",
       "      <th>3</th>\n",
       "      <td>4885975</td>\n",
       "      <td>0</td>\n",
       "      <td>4766.648001</td>\n",
       "      <td>2501.730397</td>\n",
       "      <td>74356.88347</td>\n",
       "      <td>5</td>\n",
       "      <td>612</td>\n",
       "      <td>0</td>\n",
       "      <td>0.524841</td>\n",
       "      <td>0.033645</td>\n",
       "    </tr>\n",
       "    <tr>\n",
       "      <th>4</th>\n",
       "      <td>4700614</td>\n",
       "      <td>1</td>\n",
       "      <td>1345.827718</td>\n",
       "      <td>1768.826187</td>\n",
       "      <td>23448.32631</td>\n",
       "      <td>6</td>\n",
       "      <td>631</td>\n",
       "      <td>0</td>\n",
       "      <td>1.314304</td>\n",
       "      <td>0.075435</td>\n",
       "    </tr>\n",
       "    <tr>\n",
       "      <th>...</th>\n",
       "      <td>...</td>\n",
       "      <td>...</td>\n",
       "      <td>...</td>\n",
       "      <td>...</td>\n",
       "      <td>...</td>\n",
       "      <td>...</td>\n",
       "      <td>...</td>\n",
       "      <td>...</td>\n",
       "      <td>...</td>\n",
       "      <td>...</td>\n",
       "    </tr>\n",
       "    <tr>\n",
       "      <th>9995</th>\n",
       "      <td>3972488</td>\n",
       "      <td>0</td>\n",
       "      <td>3033.647103</td>\n",
       "      <td>2553.733144</td>\n",
       "      <td>42691.62787</td>\n",
       "      <td>5</td>\n",
       "      <td>697</td>\n",
       "      <td>0</td>\n",
       "      <td>0.841803</td>\n",
       "      <td>0.059818</td>\n",
       "    </tr>\n",
       "    <tr>\n",
       "      <th>9996</th>\n",
       "      <td>6184073</td>\n",
       "      <td>1</td>\n",
       "      <td>4146.239304</td>\n",
       "      <td>5458.163525</td>\n",
       "      <td>79969.50521</td>\n",
       "      <td>8</td>\n",
       "      <td>615</td>\n",
       "      <td>0</td>\n",
       "      <td>1.316413</td>\n",
       "      <td>0.068253</td>\n",
       "    </tr>\n",
       "    <tr>\n",
       "      <th>9997</th>\n",
       "      <td>6694516</td>\n",
       "      <td>2</td>\n",
       "      <td>3088.223727</td>\n",
       "      <td>4813.090925</td>\n",
       "      <td>38192.67591</td>\n",
       "      <td>5</td>\n",
       "      <td>596</td>\n",
       "      <td>0</td>\n",
       "      <td>1.558531</td>\n",
       "      <td>0.126021</td>\n",
       "    </tr>\n",
       "    <tr>\n",
       "      <th>9998</th>\n",
       "      <td>3942961</td>\n",
       "      <td>0</td>\n",
       "      <td>3288.901666</td>\n",
       "      <td>1043.099660</td>\n",
       "      <td>50929.37206</td>\n",
       "      <td>2</td>\n",
       "      <td>647</td>\n",
       "      <td>0</td>\n",
       "      <td>0.317157</td>\n",
       "      <td>0.020481</td>\n",
       "    </tr>\n",
       "    <tr>\n",
       "      <th>9999</th>\n",
       "      <td>5533570</td>\n",
       "      <td>1</td>\n",
       "      <td>1917.652480</td>\n",
       "      <td>3050.248203</td>\n",
       "      <td>30611.62821</td>\n",
       "      <td>6</td>\n",
       "      <td>757</td>\n",
       "      <td>0</td>\n",
       "      <td>1.590616</td>\n",
       "      <td>0.099643</td>\n",
       "    </tr>\n",
       "  </tbody>\n",
       "</table>\n",
       "<p>10000 rows × 10 columns</p>\n",
       "</div>"
      ],
      "text/plain": [
       "      customer_id  credit_lines_outstanding  loan_amt_outstanding  \\\n",
       "0         8153374                         0           5221.545193   \n",
       "1         7442532                         5           1958.928726   \n",
       "2         2256073                         0           3363.009259   \n",
       "3         4885975                         0           4766.648001   \n",
       "4         4700614                         1           1345.827718   \n",
       "...           ...                       ...                   ...   \n",
       "9995      3972488                         0           3033.647103   \n",
       "9996      6184073                         1           4146.239304   \n",
       "9997      6694516                         2           3088.223727   \n",
       "9998      3942961                         0           3288.901666   \n",
       "9999      5533570                         1           1917.652480   \n",
       "\n",
       "      total_debt_outstanding       income  years_employed  fico_score  \\\n",
       "0                3915.471226  78039.38546               5         605   \n",
       "1                8228.752520  26648.43525               2         572   \n",
       "2                2027.830850  65866.71246               4         602   \n",
       "3                2501.730397  74356.88347               5         612   \n",
       "4                1768.826187  23448.32631               6         631   \n",
       "...                      ...          ...             ...         ...   \n",
       "9995             2553.733144  42691.62787               5         697   \n",
       "9996             5458.163525  79969.50521               8         615   \n",
       "9997             4813.090925  38192.67591               5         596   \n",
       "9998             1043.099660  50929.37206               2         647   \n",
       "9999             3050.248203  30611.62821               6         757   \n",
       "\n",
       "      default  debt_to_loan  debt_to_income  \n",
       "0           0      0.749868        0.050173  \n",
       "1           1      4.200639        0.308789  \n",
       "2           0      0.602981        0.030787  \n",
       "3           0      0.524841        0.033645  \n",
       "4           0      1.314304        0.075435  \n",
       "...       ...           ...             ...  \n",
       "9995        0      0.841803        0.059818  \n",
       "9996        0      1.316413        0.068253  \n",
       "9997        0      1.558531        0.126021  \n",
       "9998        0      0.317157        0.020481  \n",
       "9999        0      1.590616        0.099643  \n",
       "\n",
       "[10000 rows x 10 columns]"
      ]
     },
     "execution_count": 5,
     "metadata": {},
     "output_type": "execute_result"
    }
   ],
   "source": [
    "# Feature engineering: Create new variables for debt-to-loan and debt-to-income ratios\n",
    "data['debt_to_loan'] = data['total_debt_outstanding'] / data['loan_amt_outstanding']\n",
    "data['debt_to_income'] = data['total_debt_outstanding'] / data['income']\n",
    "data"
   ]
  },
  {
   "cell_type": "code",
   "execution_count": 6,
   "metadata": {},
   "outputs": [
    {
     "name": "stdout",
     "output_type": "stream",
     "text": [
      "4.445373757444491 1.6006943643749982 0.272104678726068 0.0903809375257615\n"
     ]
    }
   ],
   "source": [
    "# Compute the average ratios for defaulted and non-defaulted loans\n",
    "debt_to_loan_defaulted = data[data['default'] == 1]['debt_to_loan'].mean()\n",
    "debt_to_loan_notdefaulted = data[data['default'] == 0]['debt_to_loan'].mean()\n",
    "\n",
    "debt_to_income_defaulted = data[data['default'] == 1]['debt_to_income'].mean()\n",
    "debt_to_income_notdefaulted = data[data['default'] == 0]['debt_to_income'].mean()\n",
    "\n",
    "# Print the mean ratios for default comparison\n",
    "print(debt_to_loan_defaulted, debt_to_loan_notdefaulted, debt_to_income_defaulted, debt_to_income_notdefaulted)"
   ]
  },
  {
   "cell_type": "code",
   "execution_count": 7,
   "metadata": {
    "metadata": {}
   },
   "outputs": [
    {
     "name": "stdout",
     "output_type": "stream",
     "text": [
      "        customer_id  credit_lines_outstanding  loan_amt_outstanding  \\\n",
      "count  1.851000e+03               1851.000000           1851.000000   \n",
      "mean   5.007914e+06                  4.618044           4454.854897   \n",
      "std    2.278015e+06                  0.637969           1471.586769   \n",
      "min    1.000324e+06                  2.000000            189.725024   \n",
      "25%    3.016468e+06                  4.000000           3395.163895   \n",
      "50%    5.116813e+06                  5.000000           4393.697084   \n",
      "75%    6.972913e+06                  5.000000           5388.006613   \n",
      "max    8.989969e+06                  5.000000          10210.746690   \n",
      "\n",
      "       total_debt_outstanding         income  years_employed   fico_score  \\\n",
      "count             1851.000000    1851.000000     1851.000000  1851.000000   \n",
      "mean             19270.582961   70726.740140        3.617504   596.257699   \n",
      "std               6298.378378   20363.512385        1.401002    58.949929   \n",
      "min                592.445977    2836.241899        0.000000   409.000000   \n",
      "25%              14740.001390   56538.397480        3.000000   557.000000   \n",
      "50%              18915.578460   71266.967920        4.000000   597.000000   \n",
      "75%              23221.702350   83938.486575        5.000000   636.500000   \n",
      "max              43688.784100  133913.382300        8.000000   810.000000   \n",
      "\n",
      "       default  debt_to_loan  debt_to_income  \n",
      "count   1851.0   1851.000000     1851.000000  \n",
      "mean       1.0      4.445374        0.272105  \n",
      "std        0.0      1.040637        0.037451  \n",
      "min        1.0      2.118315        0.161911  \n",
      "25%        1.0      3.746026        0.249129  \n",
      "50%        1.0      4.323649        0.274227  \n",
      "75%        1.0      4.984643        0.296971  \n",
      "max        1.0     12.738335        0.404561  \n"
     ]
    }
   ],
   "source": [
    "# Summary statistics for defaulted loans to understand the distribution of variables\n",
    "print(data[data['default'] == 1].describe())"
   ]
  },
  {
   "cell_type": "code",
   "execution_count": 8,
   "metadata": {},
   "outputs": [],
   "source": [
    "# Select features for machine learning models\n",
    "features = ['credit_lines_outstanding', 'loan_amt_outstanding', 'total_debt_outstanding', 'income', 'years_employed', 'fico_score', 'debt_to_loan', 'debt_to_income']"
   ]
  },
  {
   "cell_type": "markdown",
   "metadata": {},
   "source": [
    "Not resampling data because class imbalance is not extreme. 18% default data 82% non default."
   ]
  },
  {
   "cell_type": "code",
   "execution_count": 9,
   "metadata": {},
   "outputs": [
    {
     "name": "stdout",
     "output_type": "stream",
     "text": [
      "0.9999895633297153 0.9851764493056135\n"
     ]
    }
   ],
   "source": [
    "# Copy the data for modeling, specify target and input features\n",
    "df = data.copy()\n",
    "y = df['default']  # Target variable\n",
    "X = df[features]  # Input features\n",
    "\n",
    "# Split data into training and testing sets for model validation\n",
    "X_train, X_test, y_train, y_test = train_test_split(X, y, test_size=0.2, random_state=42)\n",
    "\n",
    "# Initialize and train logistic regression and decision tree classifiers\n",
    "logistic_model = LogisticRegression(max_iter=10000)\n",
    "decision_tree_model = DecisionTreeClassifier()\n",
    "logistic_model.fit(X_train, y_train)\n",
    "decision_tree_model.fit(X_train, y_train)\n",
    "\n",
    "# Predict default probabilities and evaluate model performance using ROC AUC\n",
    "logistic_predictions_balanced = logistic_model.predict_proba(X_test)[:, 1]\n",
    "tree_predictions_balanced = decision_tree_model.predict_proba(X_test)[:, 1]\n",
    "logistic_auc_balanced = roc_auc_score(y_test, logistic_predictions_balanced)\n",
    "tree_auc_balanced = roc_auc_score(y_test, tree_predictions_balanced)\n",
    "\n",
    "print(logistic_auc_balanced, tree_auc_balanced)"
   ]
  },
  {
   "cell_type": "markdown",
   "metadata": {},
   "source": [
    "Expected Loss=Probability of Default×(1 - Recovery Rate)×Loan Amount"
   ]
  },
  {
   "cell_type": "code",
   "execution_count": 10,
   "metadata": {},
   "outputs": [],
   "source": [
    "# Define a function to calculate the expected financial loss from a loan\n",
    "def calculate_expected_loss(model, features, loan_amount, recovery_rate=0.10):\n",
    "    \"\"\"\n",
    "    Calculate expected loss for a loan based on the probability of default and recovery rate.\n",
    "    \n",
    "    Parameters:\n",
    "    - model: Trained machine learning model for default prediction.\n",
    "    - features: DataFrame or array-like, features of the loan.\n",
    "    - loan_amount: float, the outstanding amount of the loan.\n",
    "    - recovery_rate: float, the expected recovery rate in the event of a default.\n",
    "    \n",
    "    Returns:\n",
    "    - expected_loss: float, the expected monetary loss on the loan.\n",
    "    \"\"\"\n",
    "    probability_of_default = model.predict_proba(features)[:, 1]  # Predict the probability of default\n",
    "    expected_loss = probability_of_default * (1 - recovery_rate) * loan_amount  # Calculate expected loss\n",
    "    return expected_loss"
   ]
  },
  {
   "cell_type": "code",
   "execution_count": 11,
   "metadata": {},
   "outputs": [
    {
     "name": "stdout",
     "output_type": "stream",
     "text": [
      "Expected loss is: $23.66\n"
     ]
    }
   ],
   "source": [
    "test_loan_features = pd.DataFrame([{\n",
    "    'credit_lines_outstanding': 3,\n",
    "    'loan_amt_outstanding': 5000,  # $5,000 loan\n",
    "    'total_debt_outstanding': 7500,  # Total debt $7,500\n",
    "    'income': 55000,  # Annual income $55,000\n",
    "    'years_employed': 4,\n",
    "    'fico_score': 610,\n",
    "    'debt_to_loan': 1.5,\n",
    "    'debt_to_income': 0.15\n",
    "}])\n",
    "expected_loss_example = calculate_expected_loss(logistic_model, test_loan_features, 5000)\n",
    "print(f'Expected loss is: ${round(expected_loss_example[-1],2)}')"
   ]
  }
 ],
 "metadata": {
  "kernelspec": {
   "display_name": "Python 3",
   "language": "python",
   "name": "python3"
  },
  "language_info": {
   "codemirror_mode": {
    "name": "ipython",
    "version": 3
   },
   "file_extension": ".py",
   "mimetype": "text/x-python",
   "name": "python",
   "nbconvert_exporter": "python",
   "pygments_lexer": "ipython3",
   "version": "3.10.12"
  }
 },
 "nbformat": 4,
 "nbformat_minor": 2
}
